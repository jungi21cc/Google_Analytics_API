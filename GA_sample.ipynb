{
 "cells": [
  {
   "cell_type": "code",
   "execution_count": 8,
   "metadata": {},
   "outputs": [],
   "source": [
    "import argparse\n",
    "\n",
    "from apiclient.discovery import build\n",
    "import httplib2\n",
    "from oauth2client import client\n",
    "from oauth2client import file\n",
    "from oauth2client import tools"
   ]
  },
  {
   "cell_type": "code",
   "execution_count": 9,
   "metadata": {},
   "outputs": [],
   "source": [
    "SCOPES = ['https://www.googleapis.com/auth/analytics']\n",
    "DISCOVERY_URI = ('https://analyticsreporting.googleapis.com/$discovery/rest')\n",
    "CLIENT_SECRETS_PATH = 'client_secrets.json' # Path to client_secrets.json file.\n",
    "VIEW_ID = 'ga:170298138'"
   ]
  },
  {
   "cell_type": "code",
   "execution_count": 10,
   "metadata": {},
   "outputs": [],
   "source": [
    "def initialize_analyticsreporting():\n",
    "  \n",
    "  # Parse command-line arguments.\n",
    "    parser = argparse.ArgumentParser(\n",
    "        formatter_class=argparse.RawDescriptionHelpFormatter,\n",
    "        parents=[tools.argparser])\n",
    "    flags = parser.parse_args([])\n",
    "\n",
    "  # Set up a Flow object to be used if we need to authenticate.\n",
    "    flow = client.flow_from_clientsecrets(\n",
    "        CLIENT_SECRETS_PATH, scope=SCOPES,\n",
    "        message=tools.message_if_missing(CLIENT_SECRETS_PATH))\n",
    "\n",
    "  # Prepare credentials, and authorize HTTP object with them.\n",
    "  # If the credentials don't exist or are invalid run through the native client\n",
    "  # flow. The Storage object will ensure that if successful the good\n",
    "  # credentials will get written back to a file.\n",
    "    storage = file.Storage('analyticsreporting.dat')\n",
    "    credentials = storage.get()\n",
    "    if credentials is None or credentials.invalid:\n",
    "        credentials = tools.run_flow(flow, storage, flags)\n",
    "    http = credentials.authorize(http=httplib2.Http())\n",
    "\n",
    "  # Build the service object.\n",
    "    analytics = build('analytics', 'v4', http=http, discoveryServiceUrl=DISCOVERY_URI)\n",
    "\n",
    "    return analytics"
   ]
  },
  {
   "cell_type": "code",
   "execution_count": 11,
   "metadata": {},
   "outputs": [],
   "source": [
    "def get_report(analytics):\n",
    "  # Use the Analytics Service Object to query the Analytics Reporting API V4.\n",
    "    return analytics.reports().batchGet(\n",
    "    body={\n",
    "        'reportRequests': [\n",
    "        {\n",
    "          'viewId': VIEW_ID,\n",
    "          'dateRanges': [{'startDate': '30daysAgo', 'endDate': 'today'}],\n",
    "          'metrics': [{'expression': 'ga:sessions'}],\n",
    "          'dimensions':[{'name':'ga:acquisitionSource'}], \n",
    "          'dimensions':[{'name' : 'ga:landingPagePath'}]\n",
    "#           'dimensions':[{'name':'ga:acquisitionSource'}],\n",
    "            \n",
    "        }]\n",
    "      }\n",
    "  ).execute()"
   ]
  },
  {
   "cell_type": "code",
   "execution_count": 12,
   "metadata": {},
   "outputs": [],
   "source": [
    "def print_response(response):\n",
    "  \n",
    "    for report in response.get('reports', []):\n",
    "        columnHeader = report.get('columnHeader', {})\n",
    "        dimensionHeaders = columnHeader.get('dimensions', [])\n",
    "        metricHeaders = columnHeader.get('metricHeader', {}).get('metricHeaderEntries', [])\n",
    "        rows = report.get('data', {}).get('rows', [])\n",
    "\n",
    "    for row in rows:\n",
    "        dimensions = row.get('dimensions', [])\n",
    "        dateRangeValues = row.get('metrics', [])\n",
    "\n",
    "        for header, dimension in zip(dimensionHeaders, dimensions):\n",
    "            print(header + ': ' + dimension)\n",
    "\n",
    "        for i, values in enumerate(dateRangeValues):\n",
    "            print('Date range (' + str(i) + ')')\n",
    "            for metricHeader, value in zip(metricHeaders, values.get('values')):\n",
    "                print(metricHeader.get('name') + ': ' + value)"
   ]
  },
  {
   "cell_type": "code",
   "execution_count": 13,
   "metadata": {},
   "outputs": [],
   "source": [
    "def main():\n",
    "    analytics = initialize_analyticsreporting()\n",
    "    response = get_report(analytics)\n",
    "    print(response)\n",
    "    print()\n",
    "#     print(response)\n",
    "    print_response(response)"
   ]
  },
  {
   "cell_type": "code",
   "execution_count": 14,
   "metadata": {},
   "outputs": [
    {
     "name": "stdout",
     "output_type": "stream",
     "text": [
      "{'reports': [{'columnHeader': {'dimensions': ['ga:landingPagePath'], 'metricHeader': {'metricHeaderEntries': [{'name': 'ga:sessions', 'type': 'INTEGER'}]}}, 'data': {'rows': [{'dimensions': ['/'], 'metrics': [{'values': ['37']}]}, {'dimensions': ['/2018/02/17/cloud-server/'], 'metrics': [{'values': ['2']}]}, {'dimensions': ['/2018/02/18/linux_command/'], 'metrics': [{'values': ['1']}]}, {'dimensions': ['/2018/04/09/Flask-with-model/'], 'metrics': [{'values': ['1']}]}, {'dimensions': ['/about/'], 'metrics': [{'values': ['4']}]}, {'dimensions': ['/google7bd9c6e0b4b8c3c7.html'], 'metrics': [{'values': ['1']}]}, {'dimensions': ['/journal/Flask.html'], 'metrics': [{'values': ['1']}]}, {'dimensions': ['/tag/2-computer-science-1/'], 'metrics': [{'values': ['5']}]}, {'dimensions': ['/tag/4-machine-learning-1/'], 'metrics': [{'values': ['1']}]}, {'dimensions': ['/tag/6-project/'], 'metrics': [{'values': ['1']}]}], 'totals': [{'values': ['54']}], 'rowCount': 10, 'minimums': [{'values': ['1']}], 'maximums': [{'values': ['37']}]}}]}\n",
      "\n",
      "ga:landingPagePath: /\n",
      "Date range (0)\n",
      "ga:sessions: 37\n",
      "ga:landingPagePath: /2018/02/17/cloud-server/\n",
      "Date range (0)\n",
      "ga:sessions: 2\n",
      "ga:landingPagePath: /2018/02/18/linux_command/\n",
      "Date range (0)\n",
      "ga:sessions: 1\n",
      "ga:landingPagePath: /2018/04/09/Flask-with-model/\n",
      "Date range (0)\n",
      "ga:sessions: 1\n",
      "ga:landingPagePath: /about/\n",
      "Date range (0)\n",
      "ga:sessions: 4\n",
      "ga:landingPagePath: /google7bd9c6e0b4b8c3c7.html\n",
      "Date range (0)\n",
      "ga:sessions: 1\n",
      "ga:landingPagePath: /journal/Flask.html\n",
      "Date range (0)\n",
      "ga:sessions: 1\n",
      "ga:landingPagePath: /tag/2-computer-science-1/\n",
      "Date range (0)\n",
      "ga:sessions: 5\n",
      "ga:landingPagePath: /tag/4-machine-learning-1/\n",
      "Date range (0)\n",
      "ga:sessions: 1\n",
      "ga:landingPagePath: /tag/6-project/\n",
      "Date range (0)\n",
      "ga:sessions: 1\n"
     ]
    }
   ],
   "source": [
    "if __name__ == '__main__':\n",
    "    main()"
   ]
  },
  {
   "cell_type": "code",
   "execution_count": null,
   "metadata": {},
   "outputs": [],
   "source": []
  }
 ],
 "metadata": {
  "kernelspec": {
   "display_name": "Python 3",
   "language": "python",
   "name": "python3"
  },
  "language_info": {
   "codemirror_mode": {
    "name": "ipython",
    "version": 3
   },
   "file_extension": ".py",
   "mimetype": "text/x-python",
   "name": "python",
   "nbconvert_exporter": "python",
   "pygments_lexer": "ipython3",
   "version": "3.6.5"
  }
 },
 "nbformat": 4,
 "nbformat_minor": 2
}
