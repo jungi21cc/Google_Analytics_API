{
 "cells": [
  {
   "cell_type": "code",
   "execution_count": 10,
   "metadata": {},
   "outputs": [],
   "source": [
    "\"\"\"Hello Analytics Reporting API V4.\"\"\"\n",
    "\n",
    "import argparse\n",
    "\n",
    "from apiclient.discovery import build\n",
    "import httplib2\n",
    "from oauth2client import client\n",
    "from oauth2client import file\n",
    "from oauth2client import tools"
   ]
  },
  {
   "cell_type": "code",
   "execution_count": 11,
   "metadata": {},
   "outputs": [
    {
     "ename": "SystemExit",
     "evalue": "The client secrets were invalid: \n('Error opening file', 'client_secrets.json', 'No such file or directory', 2)\nWARNING: Please configure OAuth 2.0\n\nTo make this sample run you will need to populate the client_secrets.json file\nfound at:\n\n   client_secrets.json\n\nwith information from the APIs Console <https://code.google.com/apis/console>.\n\n",
     "output_type": "error",
     "traceback": [
      "An exception has occurred, use %tb to see the full traceback.\n",
      "\u001b[0;31mSystemExit\u001b[0m\u001b[0;31m:\u001b[0m The client secrets were invalid: \n('Error opening file', 'client_secrets.json', 'No such file or directory', 2)\nWARNING: Please configure OAuth 2.0\n\nTo make this sample run you will need to populate the client_secrets.json file\nfound at:\n\n   client_secrets.json\n\nwith information from the APIs Console <https://code.google.com/apis/console>.\n\n\n"
     ]
    },
    {
     "name": "stderr",
     "output_type": "stream",
     "text": [
      "/home/jk/anaconda3/lib/python3.6/site-packages/IPython/core/interactiveshell.py:2918: UserWarning: To exit: use 'exit', 'quit', or Ctrl-D.\n",
      "  warn(\"To exit: use 'exit', 'quit', or Ctrl-D.\", stacklevel=1)\n"
     ]
    }
   ],
   "source": [
    "\n",
    "SCOPES = ['https://www.googleapis.com/auth/analytics.readonly']\n",
    "DISCOVERY_URI = ('https://analyticsreporting.googleapis.com/$discovery/rest')\n",
    "CLIENT_SECRETS_PATH = 'client_secrets.json' # Path to client_secrets.json file.\n",
    "VIEW_ID = '<REPLACE_WITH_VIEW_ID>'\n",
    "\n",
    "\n",
    "def initialize_analyticsreporting():\n",
    "  \n",
    "  # Parse command-line arguments.\n",
    "    parser = argparse.ArgumentParser(\n",
    "        formatter_class=argparse.RawDescriptionHelpFormatter,\n",
    "        parents=[tools.argparser])\n",
    "    flags = parser.parse_args([])\n",
    "\n",
    "  # Set up a Flow object to be used if we need to authenticate.\n",
    "    flow = client.flow_from_clientsecrets(\n",
    "        CLIENT_SECRETS_PATH, scope=SCOPES,\n",
    "        message=tools.message_if_missing(CLIENT_SECRETS_PATH))\n",
    "\n",
    "  # Prepare credentials, and authorize HTTP object with them.\n",
    "  # If the credentials don't exist or are invalid run through the native client\n",
    "  # flow. The Storage object will ensure that if successful the good\n",
    "  # credentials will get written back to a file.\n",
    "    storage = file.Storage('analyticsreporting.dat')\n",
    "    credentials = storage.get()\n",
    "    if credentials is None or credentials.invalid:\n",
    "        credentials = tools.run_flow(flow, storage, flags)\n",
    "    http = credentials.authorize(http=httplib2.Http())\n",
    "\n",
    "  # Build the service object.\n",
    "    analytics = build('analytics', 'v4', http=http, discoveryServiceUrl=DISCOVERY_URI)\n",
    "\n",
    "    return analytics\n",
    "\n",
    "def get_report(analytics):\n",
    "  # Use the Analytics Service Object to query the Analytics Reporting API V4.\n",
    "    return analytics.reports().batchGet(\n",
    "    body={\n",
    "        'reportRequests': [\n",
    "        {\n",
    "          'viewId': VIEW_ID,\n",
    "          'dateRanges': [{'startDate': '7daysAgo', 'endDate': 'today'}],\n",
    "          'metrics': [{'expression': 'ga:sessions'}]\n",
    "        }]\n",
    "      }\n",
    "  ).execute()\n",
    "\n",
    "\n",
    "def print_response(response):\n",
    "  \n",
    "    for report in response.get('reports', []):\n",
    "        columnHeader = report.get('columnHeader', {})\n",
    "        dimensionHeaders = columnHeader.get('dimensions', [])\n",
    "        metricHeaders = columnHeader.get('metricHeader', {}).get('metricHeaderEntries', [])\n",
    "        rows = report.get('data', {}).get('rows', [])\n",
    "\n",
    "    for row in rows:\n",
    "        dimensions = row.get('dimensions', [])\n",
    "        dateRangeValues = row.get('metrics', [])\n",
    "\n",
    "        for header, dimension in zip(dimensionHeaders, dimensions):\n",
    "            print(header + ': ' + dimension)\n",
    "\n",
    "        for i, values in enumerate(dateRangeValues):\n",
    "            print('Date range (' + str(i) + ')')\n",
    "            for metricHeader, value in zip(metricHeaders, values.get('values')):\n",
    "                print(metricHeader.get('name') + ': ' + value)\n",
    "\n",
    "\n",
    "def main():\n",
    "\n",
    "    analytics = initialize_analyticsreporting()\n",
    "    response = get_report(analytics)\n",
    "    print_response(response)\n",
    "\n",
    "if __name__ == '__main__':\n",
    "    main()"
   ]
  },
  {
   "cell_type": "code",
   "execution_count": null,
   "metadata": {},
   "outputs": [],
   "source": []
  }
 ],
 "metadata": {
  "kernelspec": {
   "display_name": "Python 3",
   "language": "python",
   "name": "python3"
  },
  "language_info": {
   "codemirror_mode": {
    "name": "ipython",
    "version": 3
   },
   "file_extension": ".py",
   "mimetype": "text/x-python",
   "name": "python",
   "nbconvert_exporter": "python",
   "pygments_lexer": "ipython3",
   "version": "3.6.4"
  }
 },
 "nbformat": 4,
 "nbformat_minor": 2
}
